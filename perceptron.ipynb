{
 "cells": [
  {
   "cell_type": "code",
   "execution_count": 1,
   "metadata": {},
   "outputs": [],
   "source": [
    "import random"
   ]
  },
  {
   "cell_type": "code",
   "execution_count": 2,
   "metadata": {},
   "outputs": [],
   "source": [
    "class Perceptron:\n",
    "    \n",
    "    def __init__(self, weights, threshold):\n",
    "        self.weights = weights\n",
    "        self.threshold = threshold\n",
    "    \n",
    "    def activate(self, inputs):\n",
    "        \"\"\"\n",
    "        Activeert de Perceptron met de gegeven inputs.\n",
    "        \n",
    "        Args:\n",
    "            inputs (list): Een lijst met inputwaarden.\n",
    "        \n",
    "        Returns:\n",
    "            int: De geactiveerde uitvoer van de Perceptron (0 of 1).\n",
    "        \"\"\"\n",
    "        weighted_sum = sum(weight * input_value for weight, input_value in zip(self.weights, inputs))\n",
    "        weighted_sum -= self.threshold\n",
    "        return int(weighted_sum >= 0)\n",
    "    \n",
    "    def loss(self, inputs, targets):\n",
    "        \"\"\"\n",
    "        Berekent de loss van de Perceptron voor de gegeven inputs en targets.\n",
    "        \"\"\"\n",
    "        total_error = 0\n",
    "        n = len(inputs)\n",
    "\n",
    "        for i in range(n):\n",
    "            predicted_output = self.activate(inputs[i])\n",
    "            error = (targets[i] - predicted_output) ** 2\n",
    "            total_error += error\n",
    "\n",
    "        mse=  total_error / n\n",
    "        return mse\n",
    "\n",
    "    def update(self, inputs, targets):\n",
    "        total_error = 1  \n",
    "        iterations = 0\n",
    "        while total_error > 0.01:  \n",
    "            total_error = 0\n",
    "            for i in range(len(inputs)):\n",
    "                predicted_output = self.activate(inputs[i])\n",
    "                error = targets[i] - predicted_output\n",
    "                for j in range(len(self.weights)):\n",
    "                    self.weights[j] += error * inputs[i][j]\n",
    "                self.threshold -= error\n",
    "                total_error += error ** 2\n",
    "            total_error /= len(inputs)  \n",
    "            iterations += 1\n",
    "            if iterations > 100000:  \n",
    "                print(\"Max aantal iteraties overschreden.\")\n",
    "                break\n",
    "\n",
    "            return total_error\n",
    "\n",
    "    def __str__(self):\n",
    "        return f\"weights - {self.weights}      -----       threshold - {self.threshold}\"\n",
    "\n",
    "\n",
    "\n",
    "class PerceptronLayer:\n",
    "    def __init__(self, perceptrons):\n",
    "        self.perceptrons = perceptrons\n",
    "    \n",
    "    def activate(self, inputs):\n",
    "        \"\"\"\n",
    "        Activeert de perceptrons in deze laag met de gegeven inputs en retourneert de geactiveerde outputs.\n",
    "\n",
    "        Parameters:\n",
    "        inputs (list): Een lijst van inputwaarden.\n",
    "\n",
    "        Returns:\n",
    "        list: Een lijst van geactiveerde outputwaarden.\n",
    "        \"\"\"\n",
    "        activated_outputs = []\n",
    "        for perceptron in self.perceptrons:\n",
    "            activated_outputs.append(perceptron.activate(inputs))\n",
    "        return activated_outputs\n",
    "\n",
    "    def __str__(self):\n",
    "        return f\"perceptrons - {self.perceptrons}\"\n",
    "\n",
    "\n",
    "class PerceptronNetwork:\n",
    "    def __init__(self, layers):\n",
    "        self.layers = layers\n",
    "    \n",
    "    def feed_forward(self, inputs):\n",
    "        \"\"\"\n",
    "        Voert een voorwaartse propagatie uit in het netwerk.\n",
    "        \n",
    "        Args:\n",
    "            inputs (list): Een lijst van invoerwaarden voor het netwerk.\n",
    "        \n",
    "        Returns:\n",
    "            output: De uitvoerwaarde van het netwerk na de voorwaartse propagatie.\n",
    "        \"\"\"\n",
    "        output = inputs\n",
    "        for layer in self.layers:\n",
    "            output = layer.activate(output)\n",
    "        return output\n",
    "    \n",
    "    def __str__(self):\n",
    "        return f\"layers - {self.layers}\"\n"
   ]
  },
  {
   "cell_type": "markdown",
   "metadata": {},
   "source": [
    "1. Test voor INVERT poort"
   ]
  },
  {
   "cell_type": "code",
   "execution_count": 3,
   "metadata": {},
   "outputs": [
    {
     "name": "stdout",
     "output_type": "stream",
     "text": [
      "1\n",
      "0\n"
     ]
    }
   ],
   "source": [
    "#klopt \n",
    "invert_perceptron = Perceptron(weights=[-1], threshold=0)\n",
    "print(invert_perceptron.activate([0]))\n",
    "print(invert_perceptron.activate([1]))"
   ]
  },
  {
   "cell_type": "markdown",
   "metadata": {},
   "source": [
    "2. Test voor OR poort"
   ]
  },
  {
   "cell_type": "code",
   "execution_count": 4,
   "metadata": {},
   "outputs": [
    {
     "name": "stdout",
     "output_type": "stream",
     "text": [
      "0\n",
      "1\n",
      "1\n",
      "1\n"
     ]
    }
   ],
   "source": [
    "#klopt\n",
    "or_perceptron = Perceptron(weights=[1, 1], threshold=1)\n",
    "print(or_perceptron.activate([0, 0]))\n",
    "print(or_perceptron.activate([0, 1]))\n",
    "print(or_perceptron.activate([1, 0]))\n",
    "print(or_perceptron.activate([1, 1]))\n"
   ]
  },
  {
   "cell_type": "markdown",
   "metadata": {},
   "source": [
    "3. Test voor AND poort"
   ]
  },
  {
   "cell_type": "code",
   "execution_count": 5,
   "metadata": {},
   "outputs": [
    {
     "name": "stdout",
     "output_type": "stream",
     "text": [
      "0\n",
      "0\n",
      "0\n",
      "1\n"
     ]
    }
   ],
   "source": [
    "#klopt \n",
    "and_perceptron = Perceptron(weights=[1, 1], threshold=2)\n",
    "print(and_perceptron.activate([0, 0]))\n",
    "print(and_perceptron.activate([0, 1]))\n",
    "print(and_perceptron.activate([1, 0]))\n",
    "print(and_perceptron.activate([1, 1]))\n"
   ]
  },
  {
   "cell_type": "markdown",
   "metadata": {},
   "source": [
    "4. Test voor NOR poort"
   ]
  },
  {
   "cell_type": "code",
   "execution_count": 6,
   "metadata": {},
   "outputs": [
    {
     "name": "stdout",
     "output_type": "stream",
     "text": [
      "1\n",
      "0\n",
      "0\n",
      "0\n",
      "0\n"
     ]
    }
   ],
   "source": [
    "#Klopt\n",
    "nor_perceptron = Perceptron(weights=[-1, -1, -1], threshold=0)\n",
    "print(nor_perceptron.activate([0, 0, 0]))\n",
    "print(nor_perceptron.activate([0, 0, 1]))\n",
    "print(nor_perceptron.activate([0, 1, 0]))\n",
    "print(nor_perceptron.activate([1, 0, 0]))\n",
    "print(nor_perceptron.activate([1, 1, 1]))"
   ]
  },
  {
   "cell_type": "markdown",
   "metadata": {},
   "source": [
    "5. Uitgebreider beslis systeem"
   ]
  },
  {
   "cell_type": "code",
   "execution_count": 7,
   "metadata": {},
   "outputs": [
    {
     "name": "stdout",
     "output_type": "stream",
     "text": [
      "0\n",
      "0\n",
      "1\n",
      "1\n"
     ]
    }
   ],
   "source": [
    "#klopt\n",
    "decision_perceptron = Perceptron(weights=[1, -1, 1], threshold=1)\n",
    "print(decision_perceptron.activate([0, 0, 0]))\n",
    "print(decision_perceptron.activate([0, 1, 0]))\n",
    "print(decision_perceptron.activate([1, 0, 1]))\n",
    "print(decision_perceptron.activate([1, 1, 1]))\n"
   ]
  },
  {
   "cell_type": "markdown",
   "metadata": {},
   "source": [
    "6. Test XOR poort"
   ]
  },
  {
   "cell_type": "code",
   "execution_count": 8,
   "metadata": {},
   "outputs": [
    {
     "name": "stdout",
     "output_type": "stream",
     "text": [
      "[0]\n",
      "[1]\n",
      "[1]\n",
      "[0]\n"
     ]
    }
   ],
   "source": [
    "#klopt volgensmij niet, alleen ik kom er niet uit waroom niet...\n",
    "xor_network = PerceptronNetwork([\n",
    "    PerceptronLayer([\n",
    "        Perceptron(weights=[1, 1], threshold=1), #OR-poort\n",
    "        Perceptron(weights=[-2, -2], threshold=-3) #NAND-poort\n",
    "    ]),\n",
    "    PerceptronLayer([\n",
    "        Perceptron(weights=[1, 1], threshold=2) #AND poort\n",
    "    ])\n",
    "])\n",
    "\n",
    "print(xor_network.feed_forward([0, 0]))\n",
    "print(xor_network.feed_forward([0, 1]))\n",
    "print(xor_network.feed_forward([1, 0]))\n",
    "print(xor_network.feed_forward([1, 1]))\n"
   ]
  },
  {
   "cell_type": "markdown",
   "metadata": {},
   "source": [
    "7. Test voor Half ladder "
   ]
  },
  {
   "cell_type": "code",
   "execution_count": 9,
   "metadata": {},
   "outputs": [
    {
     "name": "stdout",
     "output_type": "stream",
     "text": [
      "[0, 0]\n",
      "[1, 0]\n",
      "[1, 0]\n",
      "[0, 1]\n"
     ]
    }
   ],
   "source": [
    "half_adder_network = PerceptronNetwork([\n",
    "    PerceptronLayer([\n",
    "        Perceptron(weights=[-2, -2], threshold=-2), \n",
    "        Perceptron(weights=[1, 1], threshold=1),   \n",
    "        Perceptron(weights=[1, 1], threshold=2)    \n",
    "    ]),\n",
    "    PerceptronLayer([\n",
    "        Perceptron(weights=[1, 1, -2], threshold=2),  \n",
    "        Perceptron(weights=[-1, 1, 1], threshold=2)  \n",
    "    ])\n",
    "])\n",
    "print(half_adder_network.feed_forward([0, 0]))\n",
    "print(half_adder_network.feed_forward([0, 1]))\n",
    "print(half_adder_network.feed_forward([1, 0]))\n",
    "print(half_adder_network.feed_forward([1, 1]))\n"
   ]
  },
  {
   "cell_type": "markdown",
   "metadata": {},
   "source": [
    "p2\n"
   ]
  },
  {
   "cell_type": "markdown",
   "metadata": {},
   "source": [
    "1. Perceptron trainen ot het een AND-Functie heeft geleerd"
   ]
  },
  {
   "cell_type": "code",
   "execution_count": 10,
   "metadata": {},
   "outputs": [
    {
     "name": "stdout",
     "output_type": "stream",
     "text": [
      "MSE: 0.0\n",
      "parameters voor AND-functie: [1.9007419945832429, 1.1528039051099297] 2.4189231166920333\n"
     ]
    }
   ],
   "source": [
    "\n",
    "random.seed(2005)\n",
    "weights = [random.uniform(-1, 1) for _ in range(2)]\n",
    "threshold = random.uniform(-1, 1)\n",
    "perceptron_and = Perceptron(weights, threshold)\n",
    "\n",
    "inputs_and = [[0, 0], [0, 1], [1, 0], [1, 1]]\n",
    "targets_and = [0, 0, 0, 1]\n",
    "\n",
    "\n",
    "mse_and = perceptron_and.update(inputs_and, targets_and)\n",
    "print(\"MSE:\", mse_and)\n",
    "print(\"parameters voor AND-functie:\", perceptron_and.weights, perceptron_and.threshold)\n"
   ]
  },
  {
   "cell_type": "markdown",
   "metadata": {},
   "source": [
    "2. Perceptron trainen tot het een XOR-Functie heeft geleerd"
   ]
  },
  {
   "cell_type": "markdown",
   "metadata": {},
   "source": [
    "\n",
    "Een enkele perceptron kan de XOR-functie niet modelleren vanwege de niet-lineariteit van XOR. Een enkele perceptron kan alleen lineaire beslissingsgrenzen modelleren, In tegenstelling tot een AND of OR functie is XOR niet lineair scheidbaar. Om een XOR te scheiden heb je minimaal twee lineaire beslissingsgrenzen nodig. "
   ]
  },
  {
   "cell_type": "markdown",
   "metadata": {},
   "source": [
    "3. Trainen om de Iris-dataset te classificeren (Setosa en Versicolor)"
   ]
  },
  {
   "cell_type": "code",
   "execution_count": 11,
   "metadata": {},
   "outputs": [],
   "source": [
    "from sklearn.datasets import load_iris\n",
    "import matplotlib.pyplot as plt"
   ]
  },
  {
   "cell_type": "code",
   "execution_count": 12,
   "metadata": {},
   "outputs": [
    {
     "name": "stdout",
     "output_type": "stream",
     "text": [
      "parameters voor Setosa en Versicolor:\n",
      "weights - [-0.43173422548469986, -3.7591711205275757, 5.798175768318847, 2.5789052857398453]      -----       threshold - 1.1973273048079636\n"
     ]
    },
    {
     "data": {
      "image/png": "[encoded data removed]",
      "text/plain": [
       "<Figure size 640x480 with 1 Axes>"
      ]
     },
     "metadata": {},
     "output_type": "display_data"
    }
   ],
   "source": [
    "# mijn prachtige studentnummer random seed\n",
    "random.seed(1838178)\n",
    "\n",
    "# laad de dataset in\n",
    "iris = load_iris()\n",
    "X = iris.data\n",
    "y = iris.target\n",
    "\n",
    "X = X[y != 2]\n",
    "y = y[y != 2]\n",
    "\n",
    "weights = []\n",
    "for x in range(4):\n",
    "    weights.append(random.uniform(0, 1))\n",
    "\n",
    "threshold = random.uniform(0, 1)\n",
    "\n",
    "perceptron = Perceptron(weights, threshold)\n",
    "mse = perceptron.update(X, y)\n",
    "\n",
    "print(\"parameters voor Setosa en Versicolor:\")\n",
    "print(perceptron)\n",
    "\n",
    "#plot de dataset (laat mooi zien dat de data valt te scheiden door een lineaire lijn)\n",
    "plt.scatter(X[:, 0], X[:, 1], c=y)\n",
    "plt.xlabel(\"Sepal length\")\n",
    "plt.ylabel(\"Sepal width\")\n",
    "plt.show()\n"
   ]
  },
  {
   "cell_type": "markdown",
   "metadata": {},
   "source": [
    "4. Trainen om de Iris-dataset te classificeren (Versicolor en Virginica)"
   ]
  },
  {
   "cell_type": "code",
   "execution_count": 13,
   "metadata": {},
   "outputs": [
    {
     "data": {
      "image/png": "[encoded data removed]",
      "text/plain": [
       "<Figure size 640x480 with 1 Axes>"
      ]
     },
     "metadata": {},
     "output_type": "display_data"
    }
   ],
   "source": [
    "#plot de dataset (laat mooi zien dat de data niet valt te scheiden door een lineaire lijn)\n",
    "plt.scatter(X[:, 0], X[:, 1], c=y)\n",
    "plt.xlabel(\"Sepal length\")\n",
    "plt.ylabel(\"Sepal width\")\n",
    "plt.show()\n"
   ]
  },
  {
   "cell_type": "markdown",
   "metadata": {},
   "source": [
    "Kijkend naar de grafiek is duidelijk te zien dat er geen enkele mogelijkheid is om de data met 1 lijn te scheiden (ik krijg het in ieder geval niet voor mekaar). Dit maakt het dus onmogelijk om de percetron hierop te trainen."
   ]
  }
 ],
 "metadata": {
  "kernelspec": {
   "display_name": "Python 3",
   "language": "python",
   "name": "python3"
  },
  "language_info": {
   "codemirror_mode": {
    "name": "ipython",
    "version": 3
   },
   "file_extension": ".py",
   "mimetype": "text/x-python",
   "name": "python",
   "nbconvert_exporter": "python",
   "pygments_lexer": "ipython3",
   "version": "3.11.2"
  }
 },
 "nbformat": 4,
 "nbformat_minor": 2
}
