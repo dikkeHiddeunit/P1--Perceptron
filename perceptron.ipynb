{
 "cells": [
  {
   "cell_type": "code",
   "execution_count": null,
   "metadata": {},
   "outputs": [],
   "source": [
    "import random"
   ]
  },
  {
   "cell_type": "code",
   "execution_count": 12,
   "metadata": {},
   "outputs": [],
   "source": [
    "class Perceptron:\n",
    "    \n",
    "    def __init__(self, weights, threshold):\n",
    "        self.weights = weights\n",
    "        self.threshold = threshold\n",
    "    \n",
    "    def activate(self, inputs):\n",
    "        \"\"\"\n",
    "        Activeert de Perceptron met de gegeven inputs.\n",
    "        \n",
    "        Args:\n",
    "            inputs (list): Een lijst met inputwaarden.\n",
    "        \n",
    "        Returns:\n",
    "            int: De geactiveerde uitvoer van de Perceptron (0 of 1).\n",
    "        \"\"\"\n",
    "        weighted_sum = 0\n",
    "        for i in range(len(inputs)):\n",
    "            weighted_sum += self.weights[i] * inputs[i]\n",
    "        weighted_sum -= self.threshold\n",
    "        return int(weighted_sum >= 0)\n",
    "    \n",
    "    def loss(self, inputs, target):\n",
    "        pass\n",
    "\n",
    "    def update(self, target, amount):\n",
    "        pass\n",
    "\n",
    "    def __str__(self):\n",
    "        return f\"weights - {self.weights}      -----       threshold - {self.threshold}\"\n",
    "\n",
    "\n",
    "class PerceptronLayer:\n",
    "    def __init__(self, perceptrons):\n",
    "        self.perceptrons = perceptrons\n",
    "    \n",
    "    def activate(self, inputs):\n",
    "        \"\"\"\n",
    "        Activeert de perceptrons in deze laag met de gegeven inputs en retourneert de geactiveerde outputs.\n",
    "\n",
    "        Parameters:\n",
    "        inputs (list): Een lijst van inputwaarden.\n",
    "\n",
    "        Returns:\n",
    "        list: Een lijst van geactiveerde outputwaarden.\n",
    "        \"\"\"\n",
    "        activated_outputs = []\n",
    "        for perceptron in self.perceptrons:\n",
    "            activated_outputs.append(perceptron.activate(inputs))\n",
    "        return activated_outputs\n",
    "\n",
    "    def __str__(self):\n",
    "        return f\"perceptrons - {self.perceptrons}\"\n",
    "\n",
    "\n",
    "class PerceptronNetwork:\n",
    "    def __init__(self, layers):\n",
    "        self.layers = layers\n",
    "    \n",
    "    def feed_forward(self, inputs):\n",
    "        \"\"\"\n",
    "        Voert een voorwaartse propagatie uit in het netwerk.\n",
    "        \n",
    "        Args:\n",
    "            inputs (list): Een lijst van invoerwaarden voor het netwerk.\n",
    "        \n",
    "        Returns:\n",
    "            output: De uitvoerwaarde van het netwerk na de voorwaartse propagatie.\n",
    "        \"\"\"\n",
    "        output = inputs\n",
    "        for layer in self.layers:\n",
    "            output = layer.activate(output)\n",
    "        return output\n",
    "    \n",
    "    def __str__(self):\n",
    "        return f\"layers - {self.layers}\"\n"
   ]
  },
  {
   "cell_type": "markdown",
   "metadata": {},
   "source": [
    "1. Test voor INVERT poort"
   ]
  },
  {
   "cell_type": "code",
   "execution_count": 2,
   "metadata": {},
   "outputs": [
    {
     "name": "stdout",
     "output_type": "stream",
     "text": [
      "1\n",
      "0\n"
     ]
    }
   ],
   "source": [
    "#klopt \n",
    "invert_perceptron = Perceptron(weights=[-1], threshold=0)\n",
    "print(invert_perceptron.activate([0]))\n",
    "print(invert_perceptron.activate([1]))"
   ]
  },
  {
   "cell_type": "markdown",
   "metadata": {},
   "source": [
    "2. Test voor OR poort"
   ]
  },
  {
   "cell_type": "code",
   "execution_count": 3,
   "metadata": {},
   "outputs": [
    {
     "name": "stdout",
     "output_type": "stream",
     "text": [
      "0\n",
      "1\n",
      "1\n",
      "1\n"
     ]
    }
   ],
   "source": [
    "#klopt\n",
    "or_perceptron = Perceptron(weights=[1, 1], threshold=1)\n",
    "print(or_perceptron.activate([0, 0]))\n",
    "print(or_perceptron.activate([0, 1]))\n",
    "print(or_perceptron.activate([1, 0]))\n",
    "print(or_perceptron.activate([1, 1]))"
   ]
  },
  {
   "cell_type": "markdown",
   "metadata": {},
   "source": [
    "3. Test voor AND poort"
   ]
  },
  {
   "cell_type": "code",
   "execution_count": 4,
   "metadata": {},
   "outputs": [
    {
     "name": "stdout",
     "output_type": "stream",
     "text": [
      "0\n",
      "0\n",
      "0\n",
      "1\n"
     ]
    }
   ],
   "source": [
    "#klopt \n",
    "and_perceptron = Perceptron(weights=[1, 1], threshold=2)\n",
    "print(and_perceptron.activate([0, 0]))\n",
    "print(and_perceptron.activate([0, 1]))\n",
    "print(and_perceptron.activate([1, 0]))\n",
    "print(and_perceptron.activate([1, 1]))\n"
   ]
  },
  {
   "cell_type": "markdown",
   "metadata": {},
   "source": [
    "4. Test voor NOR poort"
   ]
  },
  {
   "cell_type": "code",
   "execution_count": 5,
   "metadata": {},
   "outputs": [
    {
     "name": "stdout",
     "output_type": "stream",
     "text": [
      "1\n",
      "0\n",
      "0\n",
      "0\n",
      "0\n"
     ]
    }
   ],
   "source": [
    "#Klopt\n",
    "nor_perceptron = Perceptron(weights=[-1, -1, -1], threshold=0)\n",
    "print(nor_perceptron.activate([0, 0, 0]))\n",
    "print(nor_perceptron.activate([0, 0, 1]))\n",
    "print(nor_perceptron.activate([0, 1, 0]))\n",
    "print(nor_perceptron.activate([1, 0, 0]))\n",
    "print(nor_perceptron.activate([1, 1, 1]))"
   ]
  },
  {
   "cell_type": "markdown",
   "metadata": {},
   "source": [
    "5. Uitgebreider beslis systeem"
   ]
  },
  {
   "cell_type": "code",
   "execution_count": 6,
   "metadata": {},
   "outputs": [
    {
     "name": "stdout",
     "output_type": "stream",
     "text": [
      "0\n",
      "0\n",
      "1\n",
      "1\n"
     ]
    }
   ],
   "source": [
    "#klopt\n",
    "decision_perceptron = Perceptron(weights=[1, -1, 1], threshold=1)\n",
    "print(decision_perceptron.activate([0, 0, 0]))\n",
    "print(decision_perceptron.activate([0, 1, 0]))\n",
    "print(decision_perceptron.activate([1, 0, 1]))\n",
    "print(decision_perceptron.activate([1, 1, 1]))\n"
   ]
  },
  {
   "cell_type": "markdown",
   "metadata": {},
   "source": [
    "6. Test XOR poort"
   ]
  },
  {
   "cell_type": "code",
   "execution_count": 13,
   "metadata": {},
   "outputs": [
    {
     "name": "stdout",
     "output_type": "stream",
     "text": [
      "[0, 1, 0]\n",
      "[1, 1, 0]\n",
      "[1, 1, 0]\n",
      "[1, 0, 1]\n"
     ]
    }
   ],
   "source": [
    "#klopt volgensmij niet, alleen ik kom er niet uit waroom niet...\n",
    "xor_network = PerceptronNetwork([\n",
    "    PerceptronLayer([\n",
    "        Perceptron(weights=[1, 1], threshold=1), #OR-poort\n",
    "        Perceptron(weights=[-2, -2], threshold=-3) #NAND-poort\n",
    "    ]),\n",
    "    PerceptronLayer([\n",
    "        Perceptron(weights=[1, 1], threshold=2) #AND poort\n",
    "    ])\n",
    "])\n",
    "\n",
    "print(xor_network.feed_forward([0, 0]))\n",
    "print(xor_network.feed_forward([0, 1]))\n",
    "print(xor_network.feed_forward([1, 0]))\n",
    "print(xor_network.feed_forward([1, 1]))\n"
   ]
  },
  {
   "cell_type": "markdown",
   "metadata": {},
   "source": [
    "7. Test voor Half ladder "
   ]
  },
  {
   "cell_type": "code",
   "execution_count": 62,
   "metadata": {},
   "outputs": [
    {
     "name": "stdout",
     "output_type": "stream",
     "text": [
      "Input (A, B) = (0, 0): [0, 0]\n",
      "Input (A, B) = (0, 1): [1, 0]\n",
      "Input (A, B) = (1, 0): [1, 0]\n",
      "Input (A, B) = (1, 1): [0, 1]\n"
     ]
    }
   ],
   "source": [
    "half_adder_network = PerceptronNetwork([\n",
    "    PerceptronLayer([\n",
    "        Perceptron(weights=[-2, -2], threshold=-2), \n",
    "        Perceptron(weights=[1, 1], threshold=1),   \n",
    "        Perceptron(weights=[1, 1], threshold=2)    \n",
    "    ]),\n",
    "    PerceptronLayer([\n",
    "        Perceptron(weights=[1, 1, -2], threshold=2),  \n",
    "        Perceptron(weights=[-1, 1, 1], threshold=2)  \n",
    "    ])\n",
    "])\n",
    "print(\"Input (A, B) = (0, 0):\", half_adder_network.feed_forward([0, 0]))\n",
    "print(\"Input (A, B) = (0, 1):\", half_adder_network.feed_forward([0, 1]))\n",
    "print(\"Input (A, B) = (1, 0):\", half_adder_network.feed_forward([1, 0]))\n",
    "print(\"Input (A, B) = (1, 1):\", half_adder_network.feed_forward([1, 1]))\n"
   ]
  },
  {
   "cell_type": "code",
   "execution_count": null,
   "metadata": {},
   "outputs": [],
   "source": []
  }
 ],
 "metadata": {
  "kernelspec": {
   "display_name": "Python 3",
   "language": "python",
   "name": "python3"
  },
  "language_info": {
   "codemirror_mode": {
    "name": "ipython",
    "version": 3
   },
   "file_extension": ".py",
   "mimetype": "text/x-python",
   "name": "python",
   "nbconvert_exporter": "python",
   "pygments_lexer": "ipython3",
   "version": "3.11.2"
  }
 },
 "nbformat": 4,
 "nbformat_minor": 2
}
