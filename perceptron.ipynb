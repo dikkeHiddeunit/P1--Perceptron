{
 "cells": [
  {
   "cell_type": "code",
   "execution_count": 1,
   "metadata": {},
   "outputs": [],
   "source": [
    "class Perceptron:\n",
    "    \n",
    "    def __init__(self, weights, threshold):\n",
    "        self.weights = weights\n",
    "        self.threshold = threshold\n",
    "    \n",
    "def activate(self, inputs):\n",
    "    \"\"\"\n",
    "    Activeert de Perceptron met de gegeven inputs.\n",
    "    \n",
    "    Args:\n",
    "        inputs (list): Een lijst met inputwaarden.\n",
    "    \n",
    "    Returns:\n",
    "        int: De geactiveerde uitvoer van de Perceptron (0 of 1).\n",
    "    \"\"\"\n",
    "    weighted_sum = 0\n",
    "    if isinstance(self.weights[0], Perceptron):  # Controleer of de gewichten een Perceptron-netwerk zijn\n",
    "        activated_inputs = [perceptron.activate(inputs) for perceptron in self.weights]\n",
    "        weighted_sum = sum(activated_inputs)\n",
    "    else:\n",
    "        for i in range(len(inputs)):\n",
    "            weighted_sum += self.weights[i] * inputs[i]\n",
    "    weighted_sum -= self.threshold\n",
    "    return int(weighted_sum >= 0)\n",
    "\n",
    "\n",
    "    \n",
    "    def __str__(self):\n",
    "        return f\"weights - {self.weights}      -----       threshold - {self.threshold}\"\n",
    "\n",
    "\n",
    "\n",
    "class PerceptronLayer:\n",
    "    def __init__(self, perceptrons):\n",
    "        self.perceptrons = perceptrons\n",
    "    \n",
    "    def activate(self, inputs):\n",
    "        \"\"\"\n",
    "        Activeert de perceptrons in deze laag met de gegeven inputs en retourneert de geactiveerde outputs.\n",
    "\n",
    "        Parameters:\n",
    "        inputs (list): Een lijst van inputwaarden.\n",
    "\n",
    "        Returns:\n",
    "        list: Een lijst van geactiveerde outputwaarden.\n",
    "        \"\"\"\n",
    "        activated_outputs = []\n",
    "        for perceptron in self.perceptrons:\n",
    "            activated_outputs.append(perceptron.activate(inputs))\n",
    "        return activated_outputs\n",
    "\n",
    "    def __str__(self):\n",
    "        return f\"perceptrons - {self.perceptrons}\"\n",
    "\n",
    "\n",
    "class PerceptronNetwork:\n",
    "    def __init__(self, layers):\n",
    "        self.layers = layers\n",
    "    \n",
    "    def feed_forward(self, inputs):\n",
    "        \"\"\"\n",
    "        Voert een voorwaartse propagatie uit in het netwerk.\n",
    "        \n",
    "        Args:\n",
    "            inputs (list): Een lijst van invoerwaarden voor het netwerk.\n",
    "        \n",
    "        Returns:\n",
    "            output: De uitvoerwaarde van het netwerk na de voorwaartse propagatie.\n",
    "        \"\"\"\n",
    "        output = inputs\n",
    "        for layer in self.layers:\n",
    "            output = layer.activate(output)\n",
    "        return output\n",
    "    \n",
    "    def __str__(self):\n",
    "        return f\"layers - {self.layers}\"\n"
   ]
  },
  {
   "cell_type": "markdown",
   "metadata": {},
   "source": [
    "1. Test voor INVERT poort"
   ]
  },
  {
   "cell_type": "code",
   "execution_count": 2,
   "metadata": {},
   "outputs": [
    {
     "name": "stdout",
     "output_type": "stream",
     "text": [
      "1\n",
      "0\n"
     ]
    }
   ],
   "source": [
    "#klopt \n",
    "invert_perceptron = Perceptron(weights=[-1], threshold=0)\n",
    "print(invert_perceptron.activate([0]))\n",
    "print(invert_perceptron.activate([1]))"
   ]
  },
  {
   "cell_type": "markdown",
   "metadata": {},
   "source": [
    "2. Test voor OR poort"
   ]
  },
  {
   "cell_type": "code",
   "execution_count": 3,
   "metadata": {},
   "outputs": [
    {
     "name": "stdout",
     "output_type": "stream",
     "text": [
      "0\n",
      "1\n",
      "1\n",
      "1\n"
     ]
    }
   ],
   "source": [
    "#klopt\n",
    "or_perceptron = Perceptron(weights=[1, 1], threshold=1)\n",
    "print(or_perceptron.activate([0, 0]))\n",
    "print(or_perceptron.activate([0, 1]))\n",
    "print(or_perceptron.activate([1, 0]))\n",
    "print(or_perceptron.activate([1, 1]))"
   ]
  },
  {
   "cell_type": "markdown",
   "metadata": {},
   "source": [
    "3. Test voor AND poort"
   ]
  },
  {
   "cell_type": "code",
   "execution_count": 4,
   "metadata": {},
   "outputs": [
    {
     "name": "stdout",
     "output_type": "stream",
     "text": [
      "0\n",
      "0\n",
      "0\n",
      "1\n"
     ]
    }
   ],
   "source": [
    "#klopt \n",
    "and_perceptron = Perceptron(weights=[1, 1], threshold=2)\n",
    "print(and_perceptron.activate([0, 0]))\n",
    "print(and_perceptron.activate([0, 1]))\n",
    "print(and_perceptron.activate([1, 0]))\n",
    "print(and_perceptron.activate([1, 1]))\n"
   ]
  },
  {
   "cell_type": "markdown",
   "metadata": {},
   "source": [
    "4. Test voor NOR poort"
   ]
  },
  {
   "cell_type": "code",
   "execution_count": 5,
   "metadata": {},
   "outputs": [
    {
     "name": "stdout",
     "output_type": "stream",
     "text": [
      "1\n",
      "0\n",
      "0\n",
      "0\n",
      "0\n"
     ]
    }
   ],
   "source": [
    "#Klopt\n",
    "nor_perceptron = Perceptron(weights=[-1, -1, -1], threshold=0)\n",
    "print(nor_perceptron.activate([0, 0, 0]))\n",
    "print(nor_perceptron.activate([0, 0, 1]))\n",
    "print(nor_perceptron.activate([0, 1, 0]))\n",
    "print(nor_perceptron.activate([1, 0, 0]))\n",
    "print(nor_perceptron.activate([1, 1, 1]))"
   ]
  },
  {
   "cell_type": "markdown",
   "metadata": {},
   "source": [
    "5. Uitgebreider beslis systeem"
   ]
  },
  {
   "cell_type": "code",
   "execution_count": 6,
   "metadata": {},
   "outputs": [
    {
     "name": "stdout",
     "output_type": "stream",
     "text": [
      "0\n",
      "0\n",
      "1\n",
      "1\n"
     ]
    }
   ],
   "source": [
    "#klopt\n",
    "decision_perceptron = Perceptron(weights=[1, -1, 1], threshold=1)\n",
    "print(decision_perceptron.activate([0, 0, 0]))\n",
    "print(decision_perceptron.activate([0, 1, 0]))\n",
    "print(decision_perceptron.activate([1, 0, 1]))\n",
    "print(decision_perceptron.activate([1, 1, 1]))\n"
   ]
  },
  {
   "cell_type": "markdown",
   "metadata": {},
   "source": [
    "6. Test XOR poort"
   ]
  },
  {
   "cell_type": "code",
   "execution_count": 7,
   "metadata": {},
   "outputs": [
    {
     "name": "stdout",
     "output_type": "stream",
     "text": [
      "[0]\n",
      "[1]\n",
      "[1]\n",
      "[0]\n"
     ]
    }
   ],
   "source": [
    "#klopt volgensmij niet, alleen ik kom er niet uit waroom niet...\n",
    "xor_network = PerceptronNetwork([\n",
    "    PerceptronLayer([\n",
    "        Perceptron(weights=[1, 1], threshold=1), #OR-poort\n",
    "        Perceptron(weights=[-2, -2], threshold=-3) #NAND-poort\n",
    "    ]),\n",
    "    PerceptronLayer([\n",
    "        Perceptron(weights=[1, 1], threshold=2) #AND poort\n",
    "    ])\n",
    "])\n",
    "\n",
    "print(xor_network.feed_forward([0, 0]))\n",
    "print(xor_network.feed_forward([0, 1]))\n",
    "print(xor_network.feed_forward([1, 0]))\n",
    "print(xor_network.feed_forward([1, 1]))\n"
   ]
  },
  {
   "cell_type": "markdown",
   "metadata": {},
   "source": [
    "7. Test voor Half ladder "
   ]
  },
  {
   "cell_type": "code",
   "execution_count": 8,
   "metadata": {},
   "outputs": [
    {
     "ename": "TypeError",
     "evalue": "'PerceptronNetwork' object is not subscriptable",
     "output_type": "error",
     "traceback": [
      "\u001b[1;31m---------------------------------------------------------------------------\u001b[0m",
      "\u001b[1;31mTypeError\u001b[0m                                 Traceback (most recent call last)",
      "Cell \u001b[1;32mIn[8], line 12\u001b[0m\n\u001b[0;32m      4\u001b[0m half_adder_network \u001b[38;5;241m=\u001b[39m PerceptronNetwork([\n\u001b[0;32m      5\u001b[0m     PerceptronLayer([\n\u001b[0;32m      6\u001b[0m         xor_as_perceptron, \n\u001b[0;32m      7\u001b[0m         and_perceptron\n\u001b[0;32m      8\u001b[0m     ])\n\u001b[0;32m      9\u001b[0m ])\n\u001b[0;32m     11\u001b[0m \u001b[38;5;66;03m# Het uitvoeren van de halfadder-test\u001b[39;00m\n\u001b[1;32m---> 12\u001b[0m \u001b[38;5;28mprint\u001b[39m(\u001b[43mhalf_adder_network\u001b[49m\u001b[38;5;241;43m.\u001b[39;49m\u001b[43mfeed_forward\u001b[49m\u001b[43m(\u001b[49m\u001b[43m[\u001b[49m\u001b[38;5;241;43m0\u001b[39;49m\u001b[43m,\u001b[49m\u001b[43m \u001b[49m\u001b[38;5;241;43m0\u001b[39;49m\u001b[43m]\u001b[49m\u001b[43m)\u001b[49m)  \u001b[38;5;66;03m# Verwachte uitvoer: [0, 0]\u001b[39;00m\n\u001b[0;32m     13\u001b[0m \u001b[38;5;28mprint\u001b[39m(half_adder_network\u001b[38;5;241m.\u001b[39mfeed_forward([\u001b[38;5;241m0\u001b[39m, \u001b[38;5;241m1\u001b[39m]))  \u001b[38;5;66;03m# Verwachte uitvoer: [0, 1]\u001b[39;00m\n\u001b[0;32m     14\u001b[0m \u001b[38;5;28mprint\u001b[39m(half_adder_network\u001b[38;5;241m.\u001b[39mfeed_forward([\u001b[38;5;241m1\u001b[39m, \u001b[38;5;241m0\u001b[39m]))  \u001b[38;5;66;03m# Verwachte uitvoer: [0, 1]\u001b[39;00m\n",
      "Cell \u001b[1;32mIn[1], line 72\u001b[0m, in \u001b[0;36mPerceptronNetwork.feed_forward\u001b[1;34m(self, inputs)\u001b[0m\n\u001b[0;32m     70\u001b[0m output \u001b[38;5;241m=\u001b[39m inputs\n\u001b[0;32m     71\u001b[0m \u001b[38;5;28;01mfor\u001b[39;00m layer \u001b[38;5;129;01min\u001b[39;00m \u001b[38;5;28mself\u001b[39m\u001b[38;5;241m.\u001b[39mlayers:\n\u001b[1;32m---> 72\u001b[0m     output \u001b[38;5;241m=\u001b[39m \u001b[43mlayer\u001b[49m\u001b[38;5;241;43m.\u001b[39;49m\u001b[43mactivate\u001b[49m\u001b[43m(\u001b[49m\u001b[43moutput\u001b[49m\u001b[43m)\u001b[49m\n\u001b[0;32m     73\u001b[0m \u001b[38;5;28;01mreturn\u001b[39;00m output\n",
      "Cell \u001b[1;32mIn[1], line 49\u001b[0m, in \u001b[0;36mPerceptronLayer.activate\u001b[1;34m(self, inputs)\u001b[0m\n\u001b[0;32m     47\u001b[0m activated_outputs \u001b[38;5;241m=\u001b[39m []\n\u001b[0;32m     48\u001b[0m \u001b[38;5;28;01mfor\u001b[39;00m perceptron \u001b[38;5;129;01min\u001b[39;00m \u001b[38;5;28mself\u001b[39m\u001b[38;5;241m.\u001b[39mperceptrons:\n\u001b[1;32m---> 49\u001b[0m     activated_outputs\u001b[38;5;241m.\u001b[39mappend(\u001b[43mperceptron\u001b[49m\u001b[38;5;241;43m.\u001b[39;49m\u001b[43mactivate\u001b[49m\u001b[43m(\u001b[49m\u001b[43minputs\u001b[49m\u001b[43m)\u001b[49m)\n\u001b[0;32m     50\u001b[0m \u001b[38;5;28;01mreturn\u001b[39;00m activated_outputs\n",
      "Cell \u001b[1;32mIn[1], line 18\u001b[0m, in \u001b[0;36mPerceptron.activate\u001b[1;34m(self, inputs)\u001b[0m\n\u001b[0;32m      8\u001b[0m \u001b[38;5;250m\u001b[39m\u001b[38;5;124;03m\"\"\"\u001b[39;00m\n\u001b[0;32m      9\u001b[0m \u001b[38;5;124;03mActiveert de Perceptron met de gegeven inputs.\u001b[39;00m\n\u001b[0;32m     10\u001b[0m \u001b[38;5;124;03m\u001b[39;00m\n\u001b[1;32m   (...)\u001b[0m\n\u001b[0;32m     15\u001b[0m \u001b[38;5;124;03m    int: De geactiveerde uitvoer van de Perceptron (0 of 1).\u001b[39;00m\n\u001b[0;32m     16\u001b[0m \u001b[38;5;124;03m\"\"\"\u001b[39;00m\n\u001b[0;32m     17\u001b[0m weighted_sum \u001b[38;5;241m=\u001b[39m \u001b[38;5;241m0\u001b[39m\n\u001b[1;32m---> 18\u001b[0m \u001b[38;5;28;01mif\u001b[39;00m \u001b[38;5;28misinstance\u001b[39m(\u001b[38;5;28;43mself\u001b[39;49m\u001b[38;5;241;43m.\u001b[39;49m\u001b[43mweights\u001b[49m\u001b[43m[\u001b[49m\u001b[38;5;241;43m0\u001b[39;49m\u001b[43m]\u001b[49m, Perceptron):\n\u001b[0;32m     19\u001b[0m     \u001b[38;5;28;01mfor\u001b[39;00m i, perceptron \u001b[38;5;129;01min\u001b[39;00m \u001b[38;5;28menumerate\u001b[39m(\u001b[38;5;28mself\u001b[39m\u001b[38;5;241m.\u001b[39mweights):\n\u001b[0;32m     20\u001b[0m         weighted_sum \u001b[38;5;241m+\u001b[39m\u001b[38;5;241m=\u001b[39m perceptron\u001b[38;5;241m.\u001b[39mactivate(inputs[i])\n",
      "\u001b[1;31mTypeError\u001b[0m: 'PerceptronNetwork' object is not subscriptable"
     ]
    }
   ],
   "source": [
    "xor_as_perceptron = Perceptron(xor_network, threshold=1)\n",
    "\n",
    "# De configuratie van de perceptrons in de laatste laag van het netwerk wordt aangepast\n",
    "half_adder_network = PerceptronNetwork([\n",
    "    PerceptronLayer([\n",
    "        xor_as_perceptron, \n",
    "        and_perceptron\n",
    "    ])\n",
    "])\n",
    "\n",
    "# Het uitvoeren van de halfadder-test\n",
    "print(half_adder_network.feed_forward([0, 0]))  # Verwachte uitvoer: [0, 0]\n",
    "print(half_adder_network.feed_forward([0, 1]))  # Verwachte uitvoer: [0, 1]\n",
    "print(half_adder_network.feed_forward([1, 0]))  # Verwachte uitvoer: [0, 1]\n",
    "print(half_adder_network.feed_forward([1, 1]))  # Verwachte uitvoer: [1, 0]\n"
   ]
  }
 ],
 "metadata": {
  "kernelspec": {
   "display_name": "Python 3",
   "language": "python",
   "name": "python3"
  },
  "language_info": {
   "codemirror_mode": {
    "name": "ipython",
    "version": 3
   },
   "file_extension": ".py",
   "mimetype": "text/x-python",
   "name": "python",
   "nbconvert_exporter": "python",
   "pygments_lexer": "ipython3",
   "version": "3.11.2"
  }
 },
 "nbformat": 4,
 "nbformat_minor": 2
}
