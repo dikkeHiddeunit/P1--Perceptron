{
 "cells": [
  {
   "cell_type": "code",
   "execution_count": 152,
   "metadata": {},
   "outputs": [],
   "source": [
    "class Perceptron:\n",
    "    def __init__(self, weights, threshold):\n",
    "        self.weights = weights\n",
    "        self.threshold = threshold\n",
    "    \n",
    "    def activate(self, inputs):\n",
    "        weighted_sum = 0\n",
    "        for i in range(len(inputs)):\n",
    "            weighted_sum += self.weights[i] * inputs[i]\n",
    "        weighted_sum -= self.threshold\n",
    "        print(f\"som: {weighted_sum}\")\n",
    "        return int(weighted_sum >= 0)\n",
    "\n",
    "    \n",
    "    def __str__(self):\n",
    "        return f\"weights - {self.weights}      -----       threshold - {self.threshold}\"\n",
    "\n",
    "\n",
    "class PerceptronLayer:\n",
    "    def __init__(self, perceptrons):\n",
    "        self.perceptrons = perceptrons\n",
    "    \n",
    "    def activate(self, inputs):\n",
    "        activated_outputs = []\n",
    "        for perceptron in self.perceptrons:\n",
    "            activated_outputs.append(perceptron.activate(inputs))\n",
    "        return activated_outputs\n",
    "\n",
    "    \n",
    "    def __str__(self):\n",
    "        return f\"perceptrons - {self.perceptrons}\"\n",
    "\n",
    "\n",
    "class PerceptronNetwork:\n",
    "    def __init__(self, layers):\n",
    "        self.layers = layers\n",
    "    \n",
    "    def feed_forward(self, inputs):\n",
    "        output = inputs\n",
    "        for layer in self.layers:\n",
    "            output = layer.activate(output)\n",
    "        return output\n",
    "\n",
    "    \n",
    "    def __str__(self):\n",
    "        return f\"layers - {self.layers}\"\n"
   ]
  },
  {
   "cell_type": "markdown",
   "metadata": {},
   "source": [
    "1. Test voor INVERT poort"
   ]
  },
  {
   "cell_type": "code",
   "execution_count": 153,
   "metadata": {},
   "outputs": [
    {
     "name": "stdout",
     "output_type": "stream",
     "text": [
      "som: 0\n",
      "1\n",
      "som: -1\n",
      "0\n"
     ]
    }
   ],
   "source": [
    "#klopt \n",
    "invert_perceptron = Perceptron(weights=[-1], threshold=0)\n",
    "print(invert_perceptron.activate([0]))\n",
    "print(invert_perceptron.activate([1]))"
   ]
  },
  {
   "cell_type": "markdown",
   "metadata": {},
   "source": [
    "2. Test voor OR poort"
   ]
  },
  {
   "cell_type": "code",
   "execution_count": 145,
   "metadata": {},
   "outputs": [
    {
     "name": "stdout",
     "output_type": "stream",
     "text": [
      "Gewogen som: -1\n",
      "0\n",
      "Gewogen som: 0\n",
      "1\n",
      "Gewogen som: 0\n",
      "1\n",
      "Gewogen som: 1\n",
      "1\n"
     ]
    }
   ],
   "source": [
    "#klopt\n",
    "or_perceptron = Perceptron(weights=[1, 1], threshold=1)\n",
    "print(or_perceptron.activate([0, 0]))\n",
    "print(or_perceptron.activate([0, 1]))\n",
    "print(or_perceptron.activate([1, 0]))\n",
    "print(or_perceptron.activate([1, 1]))"
   ]
  },
  {
   "cell_type": "markdown",
   "metadata": {},
   "source": [
    "3. Test voor AND poort"
   ]
  },
  {
   "cell_type": "code",
   "execution_count": 146,
   "metadata": {},
   "outputs": [
    {
     "name": "stdout",
     "output_type": "stream",
     "text": [
      "Gewogen som: -2\n",
      "0\n",
      "Gewogen som: -1\n",
      "0\n",
      "Gewogen som: -1\n",
      "0\n",
      "Gewogen som: 0\n",
      "1\n"
     ]
    }
   ],
   "source": [
    "#klopt \n",
    "and_perceptron = Perceptron(weights=[1, 1], threshold=2)\n",
    "print(and_perceptron.activate([0, 0]))\n",
    "print(and_perceptron.activate([0, 1]))\n",
    "print(and_perceptron.activate([1, 0]))\n",
    "print(and_perceptron.activate([1, 1]))\n"
   ]
  },
  {
   "cell_type": "markdown",
   "metadata": {},
   "source": [
    "4. Test voor NOR poort"
   ]
  },
  {
   "cell_type": "code",
   "execution_count": 148,
   "metadata": {},
   "outputs": [
    {
     "name": "stdout",
     "output_type": "stream",
     "text": [
      "Gewogen som: 0\n",
      "1\n",
      "Gewogen som: -1\n",
      "0\n",
      "Gewogen som: -1\n",
      "0\n",
      "Gewogen som: -1\n",
      "0\n",
      "Gewogen som: -3\n",
      "0\n"
     ]
    }
   ],
   "source": [
    "#Klopt\n",
    "nor_perceptron = Perceptron(weights=[-1, -1, -1], threshold=0)\n",
    "print(nor_perceptron.activate([0, 0, 0]))\n",
    "print(nor_perceptron.activate([0, 0, 1]))\n",
    "print(nor_perceptron.activate([0, 1, 0]))\n",
    "print(nor_perceptron.activate([1, 0, 0]))\n",
    "print(nor_perceptron.activate([1, 1, 1]))"
   ]
  },
  {
   "cell_type": "markdown",
   "metadata": {},
   "source": [
    "5. Uitgebreider beslis systeem"
   ]
  },
  {
   "cell_type": "code",
   "execution_count": 149,
   "metadata": {},
   "outputs": [
    {
     "name": "stdout",
     "output_type": "stream",
     "text": [
      "Gewogen som: -1\n",
      "0\n",
      "Gewogen som: -2\n",
      "0\n",
      "Gewogen som: 1\n",
      "1\n",
      "Gewogen som: 0\n",
      "1\n"
     ]
    }
   ],
   "source": [
    "#klopt\n",
    "decision_perceptron = Perceptron(weights=[1, -1, 1], threshold=1)\n",
    "print(decision_perceptron.activate([0, 0, 0]))\n",
    "print(decision_perceptron.activate([0, 1, 0]))\n",
    "print(decision_perceptron.activate([1, 0, 1]))\n",
    "print(decision_perceptron.activate([1, 1, 1]))\n"
   ]
  },
  {
   "cell_type": "markdown",
   "metadata": {},
   "source": [
    "6. Test XOR poort"
   ]
  },
  {
   "cell_type": "code",
   "execution_count": 151,
   "metadata": {},
   "outputs": [
    {
     "name": "stdout",
     "output_type": "stream",
     "text": [
      "Gewogen som: -1\n",
      "Gewogen som: 0\n",
      "Gewogen som: -1\n",
      "[0]\n",
      "Gewogen som: 0\n",
      "Gewogen som: -1\n",
      "Gewogen som: 2\n",
      "[1]\n",
      "Gewogen som: 0\n",
      "Gewogen som: -1\n",
      "Gewogen som: 2\n",
      "[1]\n",
      "Gewogen som: 1\n",
      "Gewogen som: -2\n",
      "Gewogen som: 2\n",
      "[1]\n"
     ]
    }
   ],
   "source": [
    "#klopt volgensmij niet, alleen ik kom er niet uit waroom niet...\n",
    "xor_network = PerceptronNetwork([\n",
    "    PerceptronLayer([\n",
    "        Perceptron(weights=[1, 1], threshold=1), \n",
    "        Perceptron(weights=[-1, -1], threshold=0)\n",
    "    ]),\n",
    "    PerceptronLayer([\n",
    "        Perceptron(weights=[1, -2], threshold=-1)\n",
    "    ])\n",
    "])\n",
    "\n",
    "print(xor_network.feed_forward([0, 0]))\n",
    "print(xor_network.feed_forward([0, 1]))\n",
    "print(xor_network.feed_forward([1, 0]))\n",
    "print(xor_network.feed_forward([1, 1]))\n"
   ]
  },
  {
   "cell_type": "markdown",
   "metadata": {},
   "source": [
    "7. Test voor Half ladder "
   ]
  },
  {
   "cell_type": "code",
   "execution_count": 124,
   "metadata": {},
   "outputs": [
    {
     "name": "stdout",
     "output_type": "stream",
     "text": [
      "weighted_sum: -1\n",
      "weighted_sum: 0\n",
      "weighted_sum: -1\n",
      "weighted_sum: 0\n",
      "[0, 1]\n",
      "weighted_sum: 0\n",
      "weighted_sum: -1\n",
      "weighted_sum: -1\n",
      "weighted_sum: 0\n",
      "[0, 1]\n",
      "weighted_sum: 0\n",
      "weighted_sum: -1\n",
      "weighted_sum: -1\n",
      "weighted_sum: 0\n",
      "[0, 1]\n",
      "weighted_sum: 1\n",
      "weighted_sum: -2\n",
      "weighted_sum: -1\n",
      "weighted_sum: 0\n",
      "[0, 1]\n"
     ]
    }
   ],
   "source": [
    "#klopt niet, maar komt er niet uit waarom niet\n",
    "half_adder_network = PerceptronNetwork([\n",
    "    PerceptronLayer([Perceptron(weights=[1, 1], threshold=1), Perceptron(weights=[-1, -1], threshold=0)]),\n",
    "    PerceptronLayer([Perceptron(weights=[1, 1], threshold=2), Perceptron(weights=[1, 1], threshold=1)])\n",
    "])\n",
    "print(half_adder_network.feed_forward([0, 0]))\n",
    "print(half_adder_network.feed_forward([0, 1]))\n",
    "print(half_adder_network.feed_forward([1, 0]))\n",
    "print(half_adder_network.feed_forward([1, 1]))"
   ]
  }
 ],
 "metadata": {
  "kernelspec": {
   "display_name": "Python 3",
   "language": "python",
   "name": "python3"
  },
  "language_info": {
   "codemirror_mode": {
    "name": "ipython",
    "version": 3
   },
   "file_extension": ".py",
   "mimetype": "text/x-python",
   "name": "python",
   "nbconvert_exporter": "python",
   "pygments_lexer": "ipython3",
   "version": "3.11.2"
  }
 },
 "nbformat": 4,
 "nbformat_minor": 2
}
