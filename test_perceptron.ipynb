# Test case 1: Input 0 should return 1
invert_perceptron = Perceptron(weights=[-1], threshold=0)
output = invert_perceptron.activate([0])
expected_output = 1
assert output == expected_output, f"Test case 1 failed: Expected {expected_output}, got {output}"

# Test case 2: Input 1 should return 0
invert_perceptron = Perceptron(weights=[-1], threshold=0)
output = invert_perceptron.activate([1])
expected_output = 0
assert output == expected_output, f"Test case 2 failed: Expected {expected_output}, got {output}"